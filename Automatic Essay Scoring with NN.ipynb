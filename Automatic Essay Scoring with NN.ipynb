{
 "cells": [
  {
   "cell_type": "code",
   "execution_count": 1,
   "metadata": {},
   "outputs": [],
   "source": [
    "import numpy as np\n",
    "import pandas as pd\n",
    "import nltk\n",
    "import re\n",
    "from nltk.corpus import stopwords\n",
    "from nltk.tokenize import sent_tokenize,word_tokenize\n",
    "from gensim.models import Word2Vec\n",
    "from keras.layers import Embedding, LSTM, Dense, Dropout, Lambda, Flatten\n",
    "from keras.models import Sequential, load_model, model_from_config\n",
    "import keras.backend as K\n",
    "from sklearn.model_selection import train_test_split\n",
    "from sklearn.metrics import mean_squared_error\n",
    "from sklearn.metrics import cohen_kappa_scorez"
   ]
  },
  {
   "cell_type": "code",
   "execution_count": null,
   "metadata": {},
   "outputs": [],
   "source": []
  },
  {
   "attachments": {},
   "cell_type": "markdown",
   "metadata": {},
   "source": [
    "**Preparing Dataset**"
   ]
  },
  {
   "cell_type": "code",
   "execution_count": 2,
   "metadata": {},
   "outputs": [],
   "source": [
    "df = pd.read_csv(\"Dataset/training_set_rel3.tsv\", sep='\\t', encoding='ISO-8859-1');\n",
    "df.dropna(axis=1,inplace=True)\n",
    "df.drop(columns=['domain1_score','rater1_domain1','rater2_domain1'],inplace=True,axis=1)\n",
    "df.head()\n",
    "temp = pd.read_csv(\"Processed_data.csv\")\n",
    "temp.drop(\"Unnamed: 0\",inplace=True,axis=1)"
   ]
  },
  {
   "cell_type": "code",
   "execution_count": 3,
   "metadata": {},
   "outputs": [
    {
     "data": {
      "text/html": [
       "<div>\n",
       "<style scoped>\n",
       "    .dataframe tbody tr th:only-of-type {\n",
       "        vertical-align: middle;\n",
       "    }\n",
       "\n",
       "    .dataframe tbody tr th {\n",
       "        vertical-align: top;\n",
       "    }\n",
       "\n",
       "    .dataframe thead th {\n",
       "        text-align: right;\n",
       "    }\n",
       "</style>\n",
       "<table border=\"1\" class=\"dataframe\">\n",
       "  <thead>\n",
       "    <tr style=\"text-align: right;\">\n",
       "      <th></th>\n",
       "      <th>essay_id</th>\n",
       "      <th>essay_set</th>\n",
       "      <th>essay</th>\n",
       "      <th>domain1_score</th>\n",
       "    </tr>\n",
       "  </thead>\n",
       "  <tbody>\n",
       "    <tr>\n",
       "      <th>0</th>\n",
       "      <td>1</td>\n",
       "      <td>1</td>\n",
       "      <td>Dear local newspaper, I think effects computer...</td>\n",
       "      <td>6</td>\n",
       "    </tr>\n",
       "    <tr>\n",
       "      <th>1</th>\n",
       "      <td>2</td>\n",
       "      <td>1</td>\n",
       "      <td>Dear @CAPS1 @CAPS2, I believe that using compu...</td>\n",
       "      <td>7</td>\n",
       "    </tr>\n",
       "    <tr>\n",
       "      <th>2</th>\n",
       "      <td>3</td>\n",
       "      <td>1</td>\n",
       "      <td>Dear, @CAPS1 @CAPS2 @CAPS3 More and more peopl...</td>\n",
       "      <td>5</td>\n",
       "    </tr>\n",
       "    <tr>\n",
       "      <th>3</th>\n",
       "      <td>4</td>\n",
       "      <td>1</td>\n",
       "      <td>Dear Local Newspaper, @CAPS1 I have found that...</td>\n",
       "      <td>8</td>\n",
       "    </tr>\n",
       "    <tr>\n",
       "      <th>4</th>\n",
       "      <td>5</td>\n",
       "      <td>1</td>\n",
       "      <td>Dear @LOCATION1, I know having computers has a...</td>\n",
       "      <td>6</td>\n",
       "    </tr>\n",
       "  </tbody>\n",
       "</table>\n",
       "</div>"
      ],
      "text/plain": [
       "   essay_id  essay_set                                              essay  \\\n",
       "0         1          1  Dear local newspaper, I think effects computer...   \n",
       "1         2          1  Dear @CAPS1 @CAPS2, I believe that using compu...   \n",
       "2         3          1  Dear, @CAPS1 @CAPS2 @CAPS3 More and more peopl...   \n",
       "3         4          1  Dear Local Newspaper, @CAPS1 I have found that...   \n",
       "4         5          1  Dear @LOCATION1, I know having computers has a...   \n",
       "\n",
       "   domain1_score  \n",
       "0              6  \n",
       "1              7  \n",
       "2              5  \n",
       "3              8  \n",
       "4              6  "
      ]
     },
     "execution_count": 3,
     "metadata": {},
     "output_type": "execute_result"
    }
   ],
   "source": [
    "df['domain1_score']=temp['final_score']\n",
    "df.head()"
   ]
  },
  {
   "cell_type": "code",
   "execution_count": 4,
   "metadata": {},
   "outputs": [
    {
     "data": {
      "text/plain": [
       "\"Dear local newspaper, I think effects computers have on people are great learning skills/affects because they give us time to chat with friends/new people, helps us learn about the globe(astronomy) and keeps us out of troble! Thing about! Dont you think so? How would you feel if your teenager is always on the phone with friends! Do you ever time to chat with your friends or buisness partner about things. Well now - there's a new way to chat the computer, theirs plenty of sites on the internet to do so: @ORGANIZATION1, @ORGANIZATION2, @CAPS1, facebook, myspace ect. Just think now while your setting up meeting with your boss on the computer, your teenager is having fun on the phone not rushing to get off cause you want to use it. How did you learn about other countrys/states outside of yours? Well I have by computer/internet, it's a new way to learn about what going on in our time! You might think your child spends a lot of time on the computer, but ask them so question about the economy, sea floor spreading or even about the @DATE1's you'll be surprise at how much he/she knows. Believe it or not the computer is much interesting then in class all day reading out of books. If your child is home on your computer or at a local library, it's better than being out with friends being fresh, or being perpressured to doing something they know isnt right. You might not know where your child is, @CAPS2 forbidde in a hospital bed because of a drive-by. Rather than your child on the computer learning, chatting or just playing games, safe and sound in your home or community place. Now I hope you have reached a point to understand and agree with me, because computers can have great effects on you or child because it gives us time to chat with friends/new people, helps us learn about the globe and believe or not keeps us out of troble. Thank you for listening.\""
      ]
     },
     "execution_count": 4,
     "metadata": {},
     "output_type": "execute_result"
    }
   ],
   "source": [
    "df['essay'][0]"
   ]
  },
  {
   "cell_type": "code",
   "execution_count": 5,
   "metadata": {},
   "outputs": [
    {
     "data": {
      "text/html": [
       "<div>\n",
       "<style scoped>\n",
       "    .dataframe tbody tr th:only-of-type {\n",
       "        vertical-align: middle;\n",
       "    }\n",
       "\n",
       "    .dataframe tbody tr th {\n",
       "        vertical-align: top;\n",
       "    }\n",
       "\n",
       "    .dataframe thead th {\n",
       "        text-align: right;\n",
       "    }\n",
       "</style>\n",
       "<table border=\"1\" class=\"dataframe\">\n",
       "  <thead>\n",
       "    <tr style=\"text-align: right;\">\n",
       "      <th></th>\n",
       "      <th>essay_id</th>\n",
       "      <th>essay_set</th>\n",
       "      <th>essay</th>\n",
       "      <th>final_score</th>\n",
       "      <th>clean_essay</th>\n",
       "      <th>char_count</th>\n",
       "      <th>word_count</th>\n",
       "      <th>sent_count</th>\n",
       "      <th>avg_word_len</th>\n",
       "      <th>spell_err_count</th>\n",
       "      <th>noun_count</th>\n",
       "      <th>adj_count</th>\n",
       "      <th>verb_count</th>\n",
       "      <th>adv_count</th>\n",
       "    </tr>\n",
       "  </thead>\n",
       "  <tbody>\n",
       "    <tr>\n",
       "      <th>0</th>\n",
       "      <td>1</td>\n",
       "      <td>1</td>\n",
       "      <td>Dear local newspaper, I think effects computer...</td>\n",
       "      <td>6</td>\n",
       "      <td>Dear local newspaper  I think effects computer...</td>\n",
       "      <td>1441</td>\n",
       "      <td>344</td>\n",
       "      <td>16</td>\n",
       "      <td>4.188953</td>\n",
       "      <td>11</td>\n",
       "      <td>76</td>\n",
       "      <td>75</td>\n",
       "      <td>18</td>\n",
       "      <td>24</td>\n",
       "    </tr>\n",
       "  </tbody>\n",
       "</table>\n",
       "</div>"
      ],
      "text/plain": [
       "   essay_id  essay_set                                              essay  \\\n",
       "0         1          1  Dear local newspaper, I think effects computer...   \n",
       "\n",
       "   final_score                                        clean_essay  char_count  \\\n",
       "0            6  Dear local newspaper  I think effects computer...        1441   \n",
       "\n",
       "   word_count  sent_count  avg_word_len  spell_err_count  noun_count  \\\n",
       "0         344          16      4.188953               11          76   \n",
       "\n",
       "   adj_count  verb_count  adv_count  \n",
       "0         75          18         24  "
      ]
     },
     "execution_count": 5,
     "metadata": {},
     "output_type": "execute_result"
    }
   ],
   "source": [
    "temp.head(1)"
   ]
  },
  {
   "cell_type": "code",
   "execution_count": 6,
   "metadata": {},
   "outputs": [],
   "source": [
    "#Make Dataset\n",
    "y = df['domain1_score']\n",
    "df.drop('domain1_score',inplace=True,axis=1)\n",
    "X=df"
   ]
  },
  {
   "cell_type": "code",
   "execution_count": 7,
   "metadata": {},
   "outputs": [],
   "source": [
    "X_train, X_test, y_train, y_test = train_test_split(X, y, test_size=0.3, random_state=42)"
   ]
  },
  {
   "cell_type": "code",
   "execution_count": 8,
   "metadata": {},
   "outputs": [
    {
     "data": {
      "text/plain": [
       "(9083, 3)"
      ]
     },
     "execution_count": 8,
     "metadata": {},
     "output_type": "execute_result"
    }
   ],
   "source": [
    "X_train.shape"
   ]
  },
  {
   "attachments": {},
   "cell_type": "markdown",
   "metadata": {},
   "source": [
    " "
   ]
  },
  {
   "attachments": {},
   "cell_type": "markdown",
   "metadata": {},
   "source": [
    "**PREPROCESSING**"
   ]
  },
  {
   "cell_type": "code",
   "execution_count": 9,
   "metadata": {},
   "outputs": [],
   "source": [
    "train_e = X_train['essay'].tolist()\n",
    "test_e = X_test['essay'].tolist()"
   ]
  },
  {
   "cell_type": "code",
   "execution_count": 16,
   "metadata": {},
   "outputs": [],
   "source": [
    "train_sents=[]\n",
    "test_sents=[]\n",
    "\n",
    "stop_words = set(stopwords.words('english')) \n",
    "def sent2word(x):\n",
    "    x=re.sub(\"[^A-Za-z]\",\" \",x)\n",
    "    x.lower()\n",
    "    filtered_sentence = [] \n",
    "    words=x.split()\n",
    "    for w in words:\n",
    "        if w not in stop_words: \n",
    "            filtered_sentence.append(w)\n",
    "    return filtered_sentence\n",
    "\n",
    "def essay2word(essay):\n",
    "    essay = essay.strip()\n",
    "    tokenizer = nltk.data.load('tokenizers/punkt/english.pickle')\n",
    "    raw = tokenizer.tokenize(essay)\n",
    "    final_words=[]\n",
    "    for i in raw:\n",
    "        if(len(i)>0):\n",
    "            final_words.append(sent2word(i))\n",
    "    return final_words\n",
    "\n",
    "for i in train_e:\n",
    "    train_sents+=essay2word(i)\n",
    "\n",
    "for i in test_e:\n",
    "    test_sents+=essay2word(i)"
   ]
  },
  {
   "cell_type": "code",
   "execution_count": 17,
   "metadata": {},
   "outputs": [
    {
     "data": {
      "text/plain": [
       "116500"
      ]
     },
     "execution_count": 17,
     "metadata": {},
     "output_type": "execute_result"
    }
   ],
   "source": [
    "len(train_sents)"
   ]
  },
  {
   "cell_type": "code",
   "execution_count": 18,
   "metadata": {},
   "outputs": [
    {
     "data": {
      "text/plain": [
       "['It',\n",
       " 'first',\n",
       " 'day',\n",
       " 'high',\n",
       " 'school',\n",
       " 'gut',\n",
       " 'full',\n",
       " 'butterflies',\n",
       " 'make',\n",
       " 'want',\n",
       " 'run',\n",
       " 'bathrooms',\n",
       " 'hide',\n",
       " 'world']"
      ]
     },
     "execution_count": 18,
     "metadata": {},
     "output_type": "execute_result"
    }
   ],
   "source": [
    "train_sents[0]"
   ]
  },
  {
   "attachments": {},
   "cell_type": "markdown",
   "metadata": {},
   "source": [
    " "
   ]
  },
  {
   "attachments": {},
   "cell_type": "markdown",
   "metadata": {},
   "source": [
    "**Preparing WORD2VEC and LSTM Model**"
   ]
  },
  {
   "cell_type": "code",
   "execution_count": 19,
   "metadata": {},
   "outputs": [],
   "source": [
    "def get_model():\n",
    "    model = Sequential()\n",
    "    model.add(LSTM(300, dropout=0.4, recurrent_dropout=0.4, input_shape=[1, 300], return_sequences=True))\n",
    "    model.add(LSTM(64, recurrent_dropout=0.4))\n",
    "    model.add(Dropout(0.5))\n",
    "    model.add(Dense(1, activation='relu'))\n",
    "    model.compile(loss='mean_squared_error', optimizer='rmsprop', metrics=['mae'])\n",
    "    model.summary()\n",
    "    return model"
   ]
  },
  {
   "cell_type": "code",
   "execution_count": 23,
   "metadata": {},
   "outputs": [
    {
     "name": "stderr",
     "output_type": "stream",
     "text": [
      "C:\\Users\\satvi\\AppData\\Local\\Temp\\ipykernel_9468\\1462232201.py:15: DeprecationWarning: Call to deprecated `init_sims` (Gensim 4.0.0 implemented internal optimizations that make calls to init_sims() unnecessary. init_sims() is now obsoleted and will be completely removed in future versions. See https://github.com/RaRe-Technologies/gensim/wiki/Migrating-from-Gensim-3.x-to-4).\n",
      "  model.init_sims(replace=True)\n"
     ]
    }
   ],
   "source": [
    "#Training Word2Vec model\n",
    "num_features = 300 \n",
    "min_word_count = 40\n",
    "num_workers = 4\n",
    "context = 10\n",
    "downsampling = 1e-3\n",
    "\n",
    "model = Word2Vec(train_sents, \n",
    "                 workers=num_workers, \n",
    "                 vector_size=num_features, \n",
    "                 min_count = min_word_count, \n",
    "                 window = context, \n",
    "                 sample = downsampling)\n",
    "\n",
    "model.init_sims(replace=True)\n",
    "model.wv.save_word2vec_format('word2vecmodel.bin', binary=True)"
   ]
  },
  {
   "cell_type": "code",
   "execution_count": 26,
   "metadata": {
    "scrolled": true
   },
   "outputs": [
    {
     "name": "stderr",
     "output_type": "stream",
     "text": [
      "C:\\Users\\satvi\\AppData\\Local\\Temp\\ipykernel_9468\\2148893160.py:9: RuntimeWarning: invalid value encountered in divide\n",
      "  vec = np.divide(vec,noOfWords)\n"
     ]
    }
   ],
   "source": [
    "def makeVec(words, model, num_features):\n",
    "    vec = np.zeros((num_features,),dtype=\"float32\")\n",
    "    noOfWords = 0.\n",
    "    index2word_set = set(model.wv.key_to_index)\n",
    "    for i in words:\n",
    "        if i in index2word_set:\n",
    "            noOfWords += 1\n",
    "            vec = np.add(vec,model.wv.get_vector(i))        \n",
    "    vec = np.divide(vec,noOfWords)\n",
    "    return vec\n",
    "\n",
    "\n",
    "def getVecs(essays, model, num_features):\n",
    "    c=0\n",
    "    essay_vecs = np.zeros((len(essays),num_features),dtype=\"float32\")\n",
    "    for i in essays:\n",
    "        essay_vecs[c] = makeVec(i, model, num_features)\n",
    "        c+=1\n",
    "    return essay_vecs\n",
    "\n",
    "\n",
    "clean_train=[]\n",
    "for i in train_e:\n",
    "    clean_train.append(sent2word(i))\n",
    "training_vectors = getVecs(clean_train, model, num_features)\n",
    "\n",
    "clean_test=[] \n",
    "\n",
    "for i in test_e:\n",
    "    clean_test.append(sent2word(i))\n",
    "testing_vectors = getVecs(clean_test, model, num_features)"
   ]
  },
  {
   "cell_type": "code",
   "execution_count": 27,
   "metadata": {},
   "outputs": [
    {
     "data": {
      "text/plain": [
       "(9083, 300)"
      ]
     },
     "execution_count": 27,
     "metadata": {},
     "output_type": "execute_result"
    }
   ],
   "source": [
    "training_vectors.shape"
   ]
  },
  {
   "cell_type": "code",
   "execution_count": 28,
   "metadata": {},
   "outputs": [
    {
     "name": "stdout",
     "output_type": "stream",
     "text": [
      "Model: \"sequential\"\n",
      "_________________________________________________________________\n",
      " Layer (type)                Output Shape              Param #   \n",
      "=================================================================\n",
      " lstm (LSTM)                 (None, 1, 300)            721200    \n",
      "                                                                 \n",
      " lstm_1 (LSTM)               (None, 64)                93440     \n",
      "                                                                 \n",
      " dropout (Dropout)           (None, 64)                0         \n",
      "                                                                 \n",
      " dense (Dense)               (None, 1)                 65        \n",
      "                                                                 \n",
      "=================================================================\n",
      "Total params: 814,705\n",
      "Trainable params: 814,705\n",
      "Non-trainable params: 0\n",
      "_________________________________________________________________\n"
     ]
    }
   ],
   "source": [
    "training_vectors = np.array(training_vectors)\n",
    "testing_vectors = np.array(testing_vectors)\n",
    "\n",
    "# Reshaping train and test vectors to 3 dimensions. (1 represnts one timestep)\n",
    "training_vectors = np.reshape(training_vectors, (training_vectors.shape[0], 1, training_vectors.shape[1]))\n",
    "testing_vectors = np.reshape(testing_vectors, (testing_vectors.shape[0], 1, testing_vectors.shape[1]))\n",
    "lstm_model = get_model()"
   ]
  },
  {
   "cell_type": "code",
   "execution_count": 29,
   "metadata": {},
   "outputs": [
    {
     "data": {
      "text/plain": [
       "(9083, 1, 300)"
      ]
     },
     "execution_count": 29,
     "metadata": {},
     "output_type": "execute_result"
    }
   ],
   "source": [
    "training_vectors.shape"
   ]
  },
  {
   "attachments": {},
   "cell_type": "markdown",
   "metadata": {},
   "source": [
    "\n",
    "**TRAINING AND PREDICTION**\n",
    "\n",
    "\n",
    "\n",
    "\n",
    "\n"
   ]
  },
  {
   "attachments": {},
   "cell_type": "markdown",
   "metadata": {},
   "source": [
    "  "
   ]
  },
  {
   "cell_type": "code",
   "execution_count": 30,
   "metadata": {
    "scrolled": false
   },
   "outputs": [
    {
     "name": "stdout",
     "output_type": "stream",
     "text": [
      "Epoch 1/150\n",
      "142/142 [==============================] - 9s 20ms/step - loss: 11.2972 - mae: 2.6385\n",
      "Epoch 2/150\n",
      "142/142 [==============================] - 3s 21ms/step - loss: 5.5169 - mae: 1.8597\n",
      "Epoch 3/150\n",
      "142/142 [==============================] - 3s 21ms/step - loss: 5.3532 - mae: 1.8317\n",
      "Epoch 4/150\n",
      "142/142 [==============================] - 3s 21ms/step - loss: 5.2143 - mae: 1.7995\n",
      "Epoch 5/150\n",
      "142/142 [==============================] - 3s 21ms/step - loss: 5.1707 - mae: 1.7951\n",
      "Epoch 6/150\n",
      "142/142 [==============================] - 3s 22ms/step - loss: 5.0761 - mae: 1.7763\n",
      "Epoch 7/150\n",
      "142/142 [==============================] - 3s 21ms/step - loss: 5.0693 - mae: 1.7776\n",
      "Epoch 8/150\n",
      "142/142 [==============================] - 3s 21ms/step - loss: 5.0748 - mae: 1.7792\n",
      "Epoch 9/150\n",
      "142/142 [==============================] - 3s 21ms/step - loss: 4.9796 - mae: 1.7621\n",
      "Epoch 10/150\n",
      "142/142 [==============================] - 3s 21ms/step - loss: 5.0189 - mae: 1.7705\n",
      "Epoch 11/150\n",
      "142/142 [==============================] - 3s 22ms/step - loss: 4.9311 - mae: 1.7516\n",
      "Epoch 12/150\n",
      "142/142 [==============================] - 3s 24ms/step - loss: 4.9131 - mae: 1.7450\n",
      "Epoch 13/150\n",
      "142/142 [==============================] - 3s 19ms/step - loss: 5.0217 - mae: 1.7662\n",
      "Epoch 14/150\n",
      "142/142 [==============================] - 3s 19ms/step - loss: 4.8989 - mae: 1.7455\n",
      "Epoch 15/150\n",
      "142/142 [==============================] - 3s 20ms/step - loss: 4.9235 - mae: 1.7492\n",
      "Epoch 16/150\n",
      "142/142 [==============================] - 3s 19ms/step - loss: 4.8829 - mae: 1.7423\n",
      "Epoch 17/150\n",
      "142/142 [==============================] - 3s 19ms/step - loss: 4.8957 - mae: 1.7481\n",
      "Epoch 18/150\n",
      "142/142 [==============================] - 4s 25ms/step - loss: 4.8785 - mae: 1.7402\n",
      "Epoch 19/150\n",
      "142/142 [==============================] - 3s 24ms/step - loss: 4.8259 - mae: 1.7267\n",
      "Epoch 20/150\n",
      "142/142 [==============================] - 3s 24ms/step - loss: 4.8438 - mae: 1.7256\n",
      "Epoch 21/150\n",
      "142/142 [==============================] - 3s 23ms/step - loss: 4.8243 - mae: 1.7359\n",
      "Epoch 22/150\n",
      "142/142 [==============================] - 3s 22ms/step - loss: 4.7346 - mae: 1.7161\n",
      "Epoch 23/150\n",
      "142/142 [==============================] - 3s 22ms/step - loss: 4.7670 - mae: 1.7155\n",
      "Epoch 24/150\n",
      "142/142 [==============================] - 3s 23ms/step - loss: 4.7491 - mae: 1.7143\n",
      "Epoch 25/150\n",
      "142/142 [==============================] - 3s 22ms/step - loss: 4.6562 - mae: 1.6947\n",
      "Epoch 26/150\n",
      "142/142 [==============================] - 3s 22ms/step - loss: 4.6243 - mae: 1.6851\n",
      "Epoch 27/150\n",
      "142/142 [==============================] - 3s 20ms/step - loss: 4.6459 - mae: 1.6934\n",
      "Epoch 28/150\n",
      "142/142 [==============================] - 3s 20ms/step - loss: 4.5813 - mae: 1.6794\n",
      "Epoch 29/150\n",
      "142/142 [==============================] - 3s 23ms/step - loss: 4.5648 - mae: 1.6794\n",
      "Epoch 30/150\n",
      "142/142 [==============================] - 3s 20ms/step - loss: 4.5327 - mae: 1.6640\n",
      "Epoch 31/150\n",
      "142/142 [==============================] - 3s 20ms/step - loss: 4.5474 - mae: 1.6667\n",
      "Epoch 32/150\n",
      "142/142 [==============================] - 3s 19ms/step - loss: 4.4668 - mae: 1.6554\n",
      "Epoch 33/150\n",
      "142/142 [==============================] - 3s 19ms/step - loss: 4.4739 - mae: 1.6563\n",
      "Epoch 34/150\n",
      "142/142 [==============================] - 3s 20ms/step - loss: 4.4238 - mae: 1.6453\n",
      "Epoch 35/150\n",
      "142/142 [==============================] - 3s 20ms/step - loss: 4.4369 - mae: 1.6502\n",
      "Epoch 36/150\n",
      "142/142 [==============================] - 3s 20ms/step - loss: 4.4555 - mae: 1.6500\n",
      "Epoch 37/150\n",
      "142/142 [==============================] - 3s 20ms/step - loss: 4.3860 - mae: 1.6346\n",
      "Epoch 38/150\n",
      "142/142 [==============================] - 3s 20ms/step - loss: 4.3484 - mae: 1.6301\n",
      "Epoch 39/150\n",
      "142/142 [==============================] - 3s 19ms/step - loss: 4.3821 - mae: 1.6357\n",
      "Epoch 40/150\n",
      "142/142 [==============================] - 3s 19ms/step - loss: 4.3039 - mae: 1.6224\n",
      "Epoch 41/150\n",
      "142/142 [==============================] - 3s 19ms/step - loss: 4.3476 - mae: 1.6266\n",
      "Epoch 42/150\n",
      "142/142 [==============================] - 3s 19ms/step - loss: 4.2953 - mae: 1.6251\n",
      "Epoch 43/150\n",
      "142/142 [==============================] - 3s 19ms/step - loss: 4.2223 - mae: 1.6007\n",
      "Epoch 44/150\n",
      "142/142 [==============================] - 3s 20ms/step - loss: 4.2564 - mae: 1.6103\n",
      "Epoch 45/150\n",
      "142/142 [==============================] - 3s 19ms/step - loss: 4.2238 - mae: 1.6039\n",
      "Epoch 46/150\n",
      "142/142 [==============================] - 3s 19ms/step - loss: 4.1735 - mae: 1.5949\n",
      "Epoch 47/150\n",
      "142/142 [==============================] - 3s 20ms/step - loss: 4.1231 - mae: 1.5827\n",
      "Epoch 48/150\n",
      "142/142 [==============================] - 3s 19ms/step - loss: 4.1890 - mae: 1.5955\n",
      "Epoch 49/150\n",
      "142/142 [==============================] - 3s 19ms/step - loss: 4.1621 - mae: 1.5899\n",
      "Epoch 50/150\n",
      "142/142 [==============================] - 3s 19ms/step - loss: 4.0957 - mae: 1.5777\n",
      "Epoch 51/150\n",
      "142/142 [==============================] - 3s 19ms/step - loss: 4.1291 - mae: 1.5819\n",
      "Epoch 52/150\n",
      "142/142 [==============================] - 3s 19ms/step - loss: 4.1057 - mae: 1.5831\n",
      "Epoch 53/150\n",
      "142/142 [==============================] - 3s 19ms/step - loss: 4.0719 - mae: 1.5725\n",
      "Epoch 54/150\n",
      "142/142 [==============================] - 3s 19ms/step - loss: 4.0669 - mae: 1.5737\n",
      "Epoch 55/150\n",
      "142/142 [==============================] - 3s 22ms/step - loss: 4.1003 - mae: 1.5760\n",
      "Epoch 56/150\n",
      "142/142 [==============================] - 3s 23ms/step - loss: 3.9904 - mae: 1.5570\n",
      "Epoch 57/150\n",
      "142/142 [==============================] - 3s 20ms/step - loss: 4.0245 - mae: 1.5644\n",
      "Epoch 58/150\n",
      "142/142 [==============================] - 3s 19ms/step - loss: 3.9852 - mae: 1.5547\n",
      "Epoch 59/150\n",
      "142/142 [==============================] - 3s 18ms/step - loss: 3.9945 - mae: 1.5602\n",
      "Epoch 60/150\n",
      "142/142 [==============================] - 3s 18ms/step - loss: 3.8851 - mae: 1.5375\n",
      "Epoch 61/150\n",
      "142/142 [==============================] - 3s 20ms/step - loss: 3.9680 - mae: 1.5548\n",
      "Epoch 62/150\n",
      "142/142 [==============================] - 3s 22ms/step - loss: 3.8968 - mae: 1.5419\n",
      "Epoch 63/150\n",
      "142/142 [==============================] - 3s 19ms/step - loss: 3.8540 - mae: 1.5331\n",
      "Epoch 64/150\n",
      "142/142 [==============================] - 3s 19ms/step - loss: 3.8598 - mae: 1.5350\n",
      "Epoch 65/150\n",
      "142/142 [==============================] - 3s 20ms/step - loss: 3.8730 - mae: 1.5367\n",
      "Epoch 66/150\n",
      "142/142 [==============================] - 3s 19ms/step - loss: 3.8936 - mae: 1.5376\n",
      "Epoch 67/150\n",
      "142/142 [==============================] - 3s 19ms/step - loss: 3.7593 - mae: 1.5128\n",
      "Epoch 68/150\n",
      "142/142 [==============================] - 3s 19ms/step - loss: 3.7854 - mae: 1.5187\n",
      "Epoch 69/150\n",
      "142/142 [==============================] - 3s 19ms/step - loss: 3.8567 - mae: 1.5383\n",
      "Epoch 70/150\n",
      "142/142 [==============================] - 3s 19ms/step - loss: 3.7630 - mae: 1.5092\n",
      "Epoch 71/150\n",
      "142/142 [==============================] - 3s 20ms/step - loss: 3.8069 - mae: 1.5272\n",
      "Epoch 72/150\n",
      "142/142 [==============================] - 3s 20ms/step - loss: 3.7386 - mae: 1.5050\n",
      "Epoch 73/150\n",
      "142/142 [==============================] - 3s 18ms/step - loss: 3.7410 - mae: 1.5095\n",
      "Epoch 74/150\n",
      "142/142 [==============================] - 3s 18ms/step - loss: 3.7358 - mae: 1.5027\n",
      "Epoch 75/150\n",
      "142/142 [==============================] - 3s 20ms/step - loss: 3.7359 - mae: 1.5080\n",
      "Epoch 76/150\n",
      "142/142 [==============================] - 3s 21ms/step - loss: 3.7404 - mae: 1.5072\n",
      "Epoch 77/150\n",
      "142/142 [==============================] - 3s 21ms/step - loss: 3.7178 - mae: 1.5023\n",
      "Epoch 78/150\n",
      "142/142 [==============================] - 3s 20ms/step - loss: 3.7463 - mae: 1.5097\n",
      "Epoch 79/150\n",
      "142/142 [==============================] - 3s 20ms/step - loss: 3.7007 - mae: 1.4994\n",
      "Epoch 80/150\n",
      "142/142 [==============================] - 3s 22ms/step - loss: 3.6542 - mae: 1.4927\n",
      "Epoch 81/150\n",
      "142/142 [==============================] - 2s 17ms/step - loss: 3.7020 - mae: 1.5035\n",
      "Epoch 82/150\n",
      "142/142 [==============================] - 3s 21ms/step - loss: 3.6793 - mae: 1.4974\n",
      "Epoch 83/150\n",
      "142/142 [==============================] - 3s 21ms/step - loss: 3.6785 - mae: 1.5010\n",
      "Epoch 84/150\n",
      "142/142 [==============================] - 3s 18ms/step - loss: 3.6322 - mae: 1.4842\n",
      "Epoch 85/150\n",
      "142/142 [==============================] - 3s 18ms/step - loss: 3.6137 - mae: 1.4858\n",
      "Epoch 86/150\n",
      "142/142 [==============================] - 3s 18ms/step - loss: 3.6253 - mae: 1.4787\n",
      "Epoch 87/150\n",
      "142/142 [==============================] - 3s 18ms/step - loss: 3.6512 - mae: 1.4920\n",
      "Epoch 88/150\n",
      "142/142 [==============================] - 3s 18ms/step - loss: 3.6489 - mae: 1.4859\n",
      "Epoch 89/150\n",
      "142/142 [==============================] - 3s 18ms/step - loss: 3.6221 - mae: 1.4839\n",
      "Epoch 90/150\n",
      "142/142 [==============================] - 3s 18ms/step - loss: 3.5689 - mae: 1.4758\n",
      "Epoch 91/150\n",
      "142/142 [==============================] - 3s 18ms/step - loss: 3.5576 - mae: 1.4699\n",
      "Epoch 92/150\n",
      "142/142 [==============================] - 3s 18ms/step - loss: 3.5668 - mae: 1.4720\n",
      "Epoch 93/150\n",
      "142/142 [==============================] - 3s 18ms/step - loss: 3.5594 - mae: 1.4714\n",
      "Epoch 94/150\n",
      "142/142 [==============================] - 3s 18ms/step - loss: 3.5702 - mae: 1.4724\n",
      "Epoch 95/150\n",
      "142/142 [==============================] - 3s 18ms/step - loss: 3.5688 - mae: 1.4746\n",
      "Epoch 96/150\n",
      "142/142 [==============================] - 3s 18ms/step - loss: 3.5695 - mae: 1.4740\n",
      "Epoch 97/150\n",
      "142/142 [==============================] - 3s 18ms/step - loss: 3.5062 - mae: 1.4566\n",
      "Epoch 98/150\n",
      "142/142 [==============================] - 3s 18ms/step - loss: 3.5267 - mae: 1.4593\n",
      "Epoch 99/150\n",
      "142/142 [==============================] - 3s 18ms/step - loss: 3.5011 - mae: 1.4542\n",
      "Epoch 100/150\n",
      "142/142 [==============================] - 3s 18ms/step - loss: 3.5584 - mae: 1.4725\n",
      "Epoch 101/150\n",
      "142/142 [==============================] - 3s 18ms/step - loss: 3.4989 - mae: 1.4583\n",
      "Epoch 102/150\n",
      "142/142 [==============================] - 3s 18ms/step - loss: 3.4958 - mae: 1.4538\n",
      "Epoch 103/150\n",
      "142/142 [==============================] - 3s 18ms/step - loss: 3.5091 - mae: 1.4607\n",
      "Epoch 104/150\n",
      "142/142 [==============================] - 3s 18ms/step - loss: 3.5079 - mae: 1.4582\n",
      "Epoch 105/150\n",
      "142/142 [==============================] - 3s 19ms/step - loss: 3.4798 - mae: 1.4482\n",
      "Epoch 106/150\n",
      "142/142 [==============================] - 3s 18ms/step - loss: 3.4867 - mae: 1.4549\n",
      "Epoch 107/150\n",
      "142/142 [==============================] - 3s 18ms/step - loss: 3.4319 - mae: 1.4398\n",
      "Epoch 108/150\n",
      "142/142 [==============================] - 3s 18ms/step - loss: 3.4485 - mae: 1.4463\n",
      "Epoch 109/150\n",
      "142/142 [==============================] - 3s 18ms/step - loss: 3.4203 - mae: 1.4411\n",
      "Epoch 110/150\n",
      "142/142 [==============================] - 3s 18ms/step - loss: 3.4276 - mae: 1.4436\n",
      "Epoch 111/150\n",
      "142/142 [==============================] - 3s 18ms/step - loss: 3.3901 - mae: 1.4289\n",
      "Epoch 112/150\n",
      "142/142 [==============================] - 3s 18ms/step - loss: 3.4474 - mae: 1.4414\n",
      "Epoch 113/150\n",
      "142/142 [==============================] - 3s 18ms/step - loss: 3.3866 - mae: 1.4312\n",
      "Epoch 114/150\n",
      "142/142 [==============================] - 3s 18ms/step - loss: 3.4049 - mae: 1.4356\n",
      "Epoch 115/150\n",
      "142/142 [==============================] - 3s 18ms/step - loss: 3.3886 - mae: 1.4308\n",
      "Epoch 116/150\n",
      "142/142 [==============================] - 3s 19ms/step - loss: 3.3954 - mae: 1.4335\n",
      "Epoch 117/150\n",
      "142/142 [==============================] - 3s 18ms/step - loss: 3.3666 - mae: 1.4242\n",
      "Epoch 118/150\n",
      "142/142 [==============================] - 3s 19ms/step - loss: 3.3396 - mae: 1.4206\n",
      "Epoch 119/150\n",
      "142/142 [==============================] - 3s 18ms/step - loss: 3.3666 - mae: 1.4245\n",
      "Epoch 120/150\n",
      "142/142 [==============================] - 3s 18ms/step - loss: 3.3580 - mae: 1.4197\n",
      "Epoch 121/150\n",
      "142/142 [==============================] - 3s 18ms/step - loss: 3.3585 - mae: 1.4266\n",
      "Epoch 122/150\n",
      "142/142 [==============================] - 3s 18ms/step - loss: 3.3376 - mae: 1.4261\n",
      "Epoch 123/150\n",
      "142/142 [==============================] - 3s 18ms/step - loss: 3.3654 - mae: 1.4276\n",
      "Epoch 124/150\n",
      "142/142 [==============================] - 3s 18ms/step - loss: 3.3469 - mae: 1.4231\n",
      "Epoch 125/150\n",
      "142/142 [==============================] - 3s 18ms/step - loss: 3.3639 - mae: 1.4291\n",
      "Epoch 126/150\n",
      "142/142 [==============================] - 3s 18ms/step - loss: 3.3235 - mae: 1.4180\n",
      "Epoch 127/150\n",
      "142/142 [==============================] - 3s 19ms/step - loss: 3.3175 - mae: 1.4143\n",
      "Epoch 128/150\n",
      "142/142 [==============================] - 3s 19ms/step - loss: 3.3019 - mae: 1.4122\n",
      "Epoch 129/150\n",
      "142/142 [==============================] - 3s 18ms/step - loss: 3.3246 - mae: 1.4193\n",
      "Epoch 130/150\n",
      "142/142 [==============================] - 3s 20ms/step - loss: 3.2780 - mae: 1.4117\n",
      "Epoch 131/150\n",
      "142/142 [==============================] - 3s 21ms/step - loss: 3.3147 - mae: 1.4129\n",
      "Epoch 132/150\n",
      "142/142 [==============================] - 3s 20ms/step - loss: 3.3091 - mae: 1.4117\n",
      "Epoch 133/150\n",
      "142/142 [==============================] - 3s 19ms/step - loss: 3.2995 - mae: 1.4131\n",
      "Epoch 134/150\n",
      "142/142 [==============================] - 3s 19ms/step - loss: 3.2939 - mae: 1.4149\n",
      "Epoch 135/150\n",
      "142/142 [==============================] - 3s 19ms/step - loss: 3.2690 - mae: 1.4064\n",
      "Epoch 136/150\n",
      "142/142 [==============================] - 3s 19ms/step - loss: 3.2815 - mae: 1.4085\n",
      "Epoch 137/150\n",
      "142/142 [==============================] - 3s 19ms/step - loss: 3.3097 - mae: 1.4134\n",
      "Epoch 138/150\n",
      "142/142 [==============================] - 3s 18ms/step - loss: 3.2502 - mae: 1.4018\n",
      "Epoch 139/150\n",
      "142/142 [==============================] - 3s 19ms/step - loss: 3.2666 - mae: 1.4030\n",
      "Epoch 140/150\n",
      "142/142 [==============================] - 3s 19ms/step - loss: 3.2688 - mae: 1.4059\n",
      "Epoch 141/150\n",
      "142/142 [==============================] - 3s 19ms/step - loss: 3.2524 - mae: 1.4031\n",
      "Epoch 142/150\n",
      "142/142 [==============================] - 3s 18ms/step - loss: 3.2762 - mae: 1.4037\n",
      "Epoch 143/150\n",
      "142/142 [==============================] - 3s 18ms/step - loss: 3.2370 - mae: 1.4036\n",
      "Epoch 144/150\n",
      "142/142 [==============================] - 3s 18ms/step - loss: 3.1998 - mae: 1.3889\n",
      "Epoch 145/150\n",
      "142/142 [==============================] - 3s 18ms/step - loss: 3.2177 - mae: 1.3944\n",
      "Epoch 146/150\n",
      "142/142 [==============================] - 3s 18ms/step - loss: 3.2243 - mae: 1.3959\n",
      "Epoch 147/150\n",
      "142/142 [==============================] - 3s 18ms/step - loss: 3.2188 - mae: 1.3919\n",
      "Epoch 148/150\n",
      "142/142 [==============================] - 3s 18ms/step - loss: 3.1999 - mae: 1.3884\n",
      "Epoch 149/150\n",
      "142/142 [==============================] - 3s 18ms/step - loss: 3.1781 - mae: 1.3811\n",
      "Epoch 150/150\n",
      "142/142 [==============================] - 3s 19ms/step - loss: 3.2005 - mae: 1.3886\n"
     ]
    },
    {
     "data": {
      "text/plain": [
       "<keras.callbacks.History at 0x277716affa0>"
      ]
     },
     "execution_count": 30,
     "metadata": {},
     "output_type": "execute_result"
    }
   ],
   "source": [
    "lstm_model.fit(training_vectors, y_train, batch_size=64, epochs=150)"
   ]
  },
  {
   "cell_type": "code",
   "execution_count": 31,
   "metadata": {},
   "outputs": [
    {
     "name": "stdout",
     "output_type": "stream",
     "text": [
      "122/122 [==============================] - 1s 5ms/step\n"
     ]
    },
    {
     "data": {
      "text/plain": [
       "array([[2.],\n",
       "       [5.],\n",
       "       [6.],\n",
       "       ...,\n",
       "       [7.],\n",
       "       [7.],\n",
       "       [9.]], dtype=float32)"
      ]
     },
     "execution_count": 31,
     "metadata": {},
     "output_type": "execute_result"
    }
   ],
   "source": [
    "lstm_model.save('final_lstm.h5')\n",
    "y_pred = lstm_model.predict(testing_vectors)\n",
    "y_pred = np.around(y_pred)\n",
    "y_pred"
   ]
  },
  {
   "cell_type": "code",
   "execution_count": null,
   "metadata": {},
   "outputs": [],
   "source": []
  },
  {
   "cell_type": "code",
   "execution_count": null,
   "metadata": {},
   "outputs": [],
   "source": []
  }
 ],
 "metadata": {
  "kernelspec": {
   "display_name": "Python 3",
   "language": "python",
   "name": "python3"
  },
  "language_info": {
   "codemirror_mode": {
    "name": "ipython",
    "version": 3
   },
   "file_extension": ".py",
   "mimetype": "text/x-python",
   "name": "python",
   "nbconvert_exporter": "python",
   "pygments_lexer": "ipython3",
   "version": "3.10.10"
  }
 },
 "nbformat": 4,
 "nbformat_minor": 4
}
